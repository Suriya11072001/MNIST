{
 "cells": [
  {
   "cell_type": "code",
   "execution_count": 1,
   "id": "aa8d7648",
   "metadata": {},
   "outputs": [],
   "source": [
    "# Import necessary libraries\n",
    "import torch\n",
    "import torch.nn as nn\n",
    "import torch.optim as optim\n",
    "import torchvision\n",
    "import torchvision.transforms as transforms\n",
    "from torchvision import datasets, transforms\n",
    "from torch.utils.data import DataLoader\n",
    "import matplotlib.pyplot as plt"
   ]
  },
  {
   "cell_type": "code",
   "execution_count": 3,
   "id": "09bb3937",
   "metadata": {},
   "outputs": [
    {
     "data": {
      "text/plain": [
       "device(type='cpu')"
      ]
     },
     "execution_count": 3,
     "metadata": {},
     "output_type": "execute_result"
    }
   ],
   "source": [
    "# 1. Device configuration\n",
    "device = torch.device('cuda' if torch.cuda.is_available() else 'cpu')\n",
    "device"
   ]
  },
  {
   "cell_type": "code",
   "execution_count": 4,
   "id": "5101f60d",
   "metadata": {},
   "outputs": [],
   "source": [
    "#define transform to normalize the data\n",
    "transform=transforms.Compose([transforms.ToTensor(),transforms.Normalize((0.5,),(0.5,))])"
   ]
  },
  {
   "cell_type": "code",
   "execution_count": 6,
   "id": "a3c266b8",
   "metadata": {},
   "outputs": [],
   "source": [
    "#load the train and test Datasets\n",
    "import torch.utils.data.dataloader\n",
    "\n",
    "\n",
    "train_dataset=torchvision.datasets.MNIST(root='./data',train=True,download=True,transform=transform)\n",
    "test_dataset = datasets.MNIST(root='./data', train=False, transform=transform, download=True)\n",
    "\n",
    "train_loader = DataLoader(dataset=train_dataset, batch_size=64, shuffle=True)\n",
    "test_loader = DataLoader(dataset=test_dataset, batch_size=64, shuffle=False)"
   ]
  },
  {
   "cell_type": "code",
   "execution_count": 7,
   "id": "83ff1238",
   "metadata": {},
   "outputs": [
    {
     "name": "stdout",
     "output_type": "stream",
     "text": [
      "Epoch 1, Batch 100, Loss: 1.348\n",
      "Epoch 1, Batch 200, Loss: 0.440\n",
      "Epoch 1, Batch 300, Loss: 0.376\n",
      "Epoch 1, Batch 400, Loss: 0.330\n",
      "Epoch 1, Batch 500, Loss: 0.302\n",
      "Epoch 1, Batch 600, Loss: 0.304\n",
      "Epoch 1, Batch 700, Loss: 0.271\n",
      "Epoch 1, Batch 800, Loss: 0.248\n",
      "Epoch 1, Batch 900, Loss: 0.233\n",
      "Epoch 2, Batch 100, Loss: 0.196\n",
      "Epoch 2, Batch 200, Loss: 0.197\n",
      "Epoch 2, Batch 300, Loss: 0.200\n",
      "Epoch 2, Batch 400, Loss: 0.196\n",
      "Epoch 2, Batch 500, Loss: 0.172\n",
      "Epoch 2, Batch 600, Loss: 0.164\n",
      "Epoch 2, Batch 700, Loss: 0.158\n",
      "Epoch 2, Batch 800, Loss: 0.166\n",
      "Epoch 2, Batch 900, Loss: 0.169\n",
      "Epoch 3, Batch 100, Loss: 0.142\n",
      "Epoch 3, Batch 200, Loss: 0.122\n",
      "Epoch 3, Batch 300, Loss: 0.140\n",
      "Epoch 3, Batch 400, Loss: 0.137\n",
      "Epoch 3, Batch 500, Loss: 0.132\n",
      "Epoch 3, Batch 600, Loss: 0.117\n",
      "Epoch 3, Batch 700, Loss: 0.117\n",
      "Epoch 3, Batch 800, Loss: 0.126\n",
      "Epoch 3, Batch 900, Loss: 0.110\n",
      "Epoch 4, Batch 100, Loss: 0.119\n",
      "Epoch 4, Batch 200, Loss: 0.101\n",
      "Epoch 4, Batch 300, Loss: 0.097\n",
      "Epoch 4, Batch 400, Loss: 0.108\n",
      "Epoch 4, Batch 500, Loss: 0.104\n",
      "Epoch 4, Batch 600, Loss: 0.109\n",
      "Epoch 4, Batch 700, Loss: 0.092\n",
      "Epoch 4, Batch 800, Loss: 0.103\n",
      "Epoch 4, Batch 900, Loss: 0.099\n",
      "Epoch 5, Batch 100, Loss: 0.079\n",
      "Epoch 5, Batch 200, Loss: 0.078\n",
      "Epoch 5, Batch 300, Loss: 0.094\n",
      "Epoch 5, Batch 400, Loss: 0.075\n",
      "Epoch 5, Batch 500, Loss: 0.081\n",
      "Epoch 5, Batch 600, Loss: 0.093\n",
      "Epoch 5, Batch 700, Loss: 0.101\n",
      "Epoch 5, Batch 800, Loss: 0.085\n",
      "Epoch 5, Batch 900, Loss: 0.092\n",
      "Finished Training\n",
      "Accuracy on the 10000 test images: 96.93%\n"
     ]
    }
   ],
   "source": [
    "#define the neural network architecture\n",
    "class Net(nn.Module):\n",
    "    def __init__(self):\n",
    "        super(Net, self).__init__()\n",
    "        self.fc1 = nn.Linear(28 * 28, 128)\n",
    "        self.fc2 = nn.Linear(128, 64)\n",
    "        self.fc3 = nn.Linear(64, 10)\n",
    "\n",
    "    def forward(self, x):\n",
    "        x = x.view(-1, 28 * 28)  # Flatten the input tensor\n",
    "        x = torch.relu(self.fc1(x))\n",
    "        x = torch.relu(self.fc2(x))\n",
    "        x = self.fc3(x)\n",
    "        return x\n",
    "net = Net()\n",
    "\n",
    "# Specify the loss function and optimizer\n",
    "criterion = nn.CrossEntropyLoss()\n",
    "optimizer = optim.SGD(net.parameters(), lr=0.01, momentum=0.9)\n",
    "\n",
    "# Train the model\n",
    "num_epochs = 5\n",
    "for epoch in range(num_epochs):\n",
    "    running_loss = 0.0\n",
    "    for i, data in enumerate(train_loader, 0):\n",
    "        inputs, labels = data\n",
    "\n",
    "        optimizer.zero_grad()\n",
    "\n",
    "        outputs = net(inputs)\n",
    "        loss = criterion(outputs, labels)\n",
    "        loss.backward()\n",
    "        optimizer.step()\n",
    "\n",
    "        running_loss += loss.item()\n",
    "        if i % 100 == 99:  # Print every 100 batches\n",
    "            print(f'Epoch {epoch + 1}, Batch {i + 1}, Loss: {running_loss / 100:.3f}')\n",
    "            running_loss = 0.0\n",
    "\n",
    "print('Finished Training')\n",
    "\n",
    "# Evaluate the model\n",
    "correct = 0\n",
    "total = 0\n",
    "\n",
    "with torch.no_grad():\n",
    "    for data in test_loader:\n",
    "        images, labels = data\n",
    "        outputs = net(images)\n",
    "        _, predicted = torch.max(outputs.data, 1)\n",
    "        total += labels.size(0)\n",
    "        correct += (predicted == labels).sum().item()\n",
    "\n",
    "print(f'Accuracy on the 10000 test images: {100 * correct / total:.2f}%')\n",
    "\n",
    "\n"
   ]
  },
  {
   "cell_type": "code",
   "execution_count": 9,
   "id": "90a72443",
   "metadata": {},
   "outputs": [
    {
     "name": "stdout",
     "output_type": "stream",
     "text": [
      "Epoch [1/5], Loss: 0.1712\n",
      "Epoch [2/5], Loss: 0.0600\n",
      "Epoch [3/5], Loss: 0.0426\n",
      "Epoch [4/5], Loss: 0.0339\n",
      "Epoch [5/5], Loss: 0.0275\n",
      "Test Accuracy: 99.17%\n"
     ]
    },
    {
     "data": {
      "image/png": "[encoded data removed]",
      "text/plain": [
       "<Figure size 640x480 with 1 Axes>"
      ]
     },
     "metadata": {},
     "output_type": "display_data"
    },
    {
     "name": "stdout",
     "output_type": "stream",
     "text": [
      "Predicted: 7, True: 7\n"
     ]
    },
    {
     "data": {
      "image/png": "[encoded data removed]",
      "text/plain": [
       "<Figure size 640x480 with 1 Axes>"
      ]
     },
     "metadata": {},
     "output_type": "display_data"
    },
    {
     "name": "stdout",
     "output_type": "stream",
     "text": [
      "Predicted: 2, True: 2\n"
     ]
    },
    {
     "data": {
      "image/png": "[encoded data removed]",
      "text/plain": [
       "<Figure size 640x480 with 1 Axes>"
      ]
     },
     "metadata": {},
     "output_type": "display_data"
    },
    {
     "name": "stdout",
     "output_type": "stream",
     "text": [
      "Predicted: 1, True: 1\n"
     ]
    },
    {
     "data": {
      "image/png": "[encoded data removed]",
      "text/plain": [
       "<Figure size 640x480 with 1 Axes>"
      ]
     },
     "metadata": {},
     "output_type": "display_data"
    },
    {
     "name": "stdout",
     "output_type": "stream",
     "text": [
      "Predicted: 0, True: 0\n"
     ]
    },
    {
     "data": {
      "image/png": "[encoded data removed]",
      "text/plain": [
       "<Figure size 640x480 with 1 Axes>"
      ]
     },
     "metadata": {},
     "output_type": "display_data"
    },
    {
     "name": "stdout",
     "output_type": "stream",
     "text": [
      "Predicted: 4, True: 4\n"
     ]
    },
    {
     "data": {
      "image/png": "[encoded data removed]",
      "text/plain": [
       "<Figure size 640x480 with 1 Axes>"
      ]
     },
     "metadata": {},
     "output_type": "display_data"
    },
    {
     "name": "stdout",
     "output_type": "stream",
     "text": [
      "Predicted: 1, True: 1\n"
     ]
    }
   ],
   "source": [
    "import torch\n",
    "import torch.nn as nn\n",
    "import torch.optim as optim\n",
    "import torchvision\n",
    "from torchvision import datasets, transforms\n",
    "from torch.utils.data import DataLoader\n",
    "import matplotlib.pyplot as plt\n",
    "\n",
    "\n",
    "# -------------------------------------------\n",
    "# 1. Device configuration\n",
    "device = torch.device('cuda' if torch.cuda.is_available() else 'cpu')\n",
    "\n",
    "# -------------------------------------------\n",
    "# 2. Define Transformations\n",
    "transform = transforms.Compose([\n",
    "    transforms.ToTensor(),  # Converts image to tensor [0,1]\n",
    "    transforms.Normalize((0.1307,), (0.3081,))  # Normalize MNIST\n",
    "])\n",
    "\n",
    "# -------------------------------------------\n",
    "# 3. Load Dataset\n",
    "train_dataset = datasets.MNIST(root='./data', train=True, transform=transform, download=True)\n",
    "test_dataset = datasets.MNIST(root='./data', train=False, transform=transform, download=True)\n",
    "\n",
    "train_loader = DataLoader(dataset=train_dataset, batch_size=64, shuffle=True)\n",
    "test_loader = DataLoader(dataset=test_dataset, batch_size=1000, shuffle=False)\n",
    "\n",
    "# -------------------------------------------\n",
    "# 4. Define CNN Model\n",
    "class CNN(nn.Module):\n",
    "    def __init__(self):\n",
    "        super(CNN, self).__init__()\n",
    "        self.conv_layer = nn.Sequential(\n",
    "            nn.Conv2d(1, 32, kernel_size=3, padding=1),  # 1x28x28 -> 32x28x28\n",
    "            nn.ReLU(),\n",
    "            nn.MaxPool2d(2),                            # 32x28x28 -> 32x14x14\n",
    "\n",
    "            nn.Conv2d(32, 64, kernel_size=3, padding=1),# -> 64x14x14\n",
    "            nn.ReLU(),\n",
    "            nn.MaxPool2d(2)                             # -> 64x7x7\n",
    "        )\n",
    "        self.fc_layer = nn.Sequential(\n",
    "            nn.Flatten(),\n",
    "            nn.Linear(64*7*7, 128),\n",
    "            nn.ReLU(),\n",
    "            nn.Dropout(0.3),\n",
    "            nn.Linear(128, 10)  # 10 classes for MNIST\n",
    "        )\n",
    "\n",
    "    def forward(self, x):\n",
    "        x = self.conv_layer(x)\n",
    "        x = self.fc_layer(x)\n",
    "        return x\n",
    "\n",
    "model = CNN().to(device)\n",
    "\n",
    "# -------------------------------------------\n",
    "# 5. Loss and Optimizer\n",
    "criterion = nn.CrossEntropyLoss()\n",
    "optimizer = optim.Adam(model.parameters(), lr=0.001)\n",
    "\n",
    "# -------------------------------------------\n",
    "# 6. Train the Model\n",
    "num_epochs = 5\n",
    "for epoch in range(num_epochs):\n",
    "    model.train()\n",
    "    total_loss = 0\n",
    "    for images, labels in train_loader:\n",
    "        images, labels = images.to(device), labels.to(device)\n",
    "\n",
    "        # Forward pass\n",
    "        outputs = model(images)\n",
    "        loss = criterion(outputs, labels)\n",
    "\n",
    "        # Backward and optimize\n",
    "        optimizer.zero_grad()\n",
    "        loss.backward()\n",
    "        optimizer.step()\n",
    "\n",
    "        total_loss += loss.item()\n",
    "\n",
    "    print(f'Epoch [{epoch+1}/{num_epochs}], Loss: {total_loss/len(train_loader):.4f}')\n",
    "\n",
    "# -------------------------------------------\n",
    "# 7. Evaluate the Model\n",
    "model.eval()\n",
    "correct = 0\n",
    "total = 0\n",
    "with torch.no_grad():\n",
    "    for images, labels in test_loader:\n",
    "        images, labels = images.to(device), labels.to(device)\n",
    "        outputs = model(images)\n",
    "        _, preds = torch.max(outputs, 1)\n",
    "        total += labels.size(0)\n",
    "        correct += (preds == labels).sum().item()\n",
    "\n",
    "print(f'Test Accuracy: {100 * correct / total:.2f}%')\n",
    "\n",
    "# -------------------------------------------\n",
    "# 8. Visualize Some Predictions\n",
    "import numpy as np\n",
    "def imshow(img):\n",
    "    img = img * 0.3081 + 0.1307  # unnormalize\n",
    "    npimg = img.numpy()\n",
    "    plt.imshow(np.transpose(npimg, (1, 2, 0)), cmap='gray')\n",
    "    plt.axis('off')\n",
    "    plt.show()\n",
    "\n",
    "data_iter = iter(test_loader)\n",
    "images, labels = next(data_iter)\n",
    "outputs = model(images.to(device))\n",
    "_, predictions = torch.max(outputs, 1)\n",
    "\n",
    "# Show 6 predictions\n",
    "for i in range(6):\n",
    "    imshow(images[i])\n",
    "    print(f'Predicted: {predictions[i].item()}, True: {labels[i].item()}')\n"
   ]
  },
  {
   "cell_type": "code",
   "execution_count": 8,
   "id": "6403deec",
   "metadata": {},
   "outputs": [
    {
     "data": {
      "image/png": "[encoded data removed]",
      "text/plain": [
       "<Figure size 640x480 with 1 Axes>"
      ]
     },
     "metadata": {},
     "output_type": "display_data"
    },
    {
     "name": "stdout",
     "output_type": "stream",
     "text": [
      "Predicted: 7, True: 7\n"
     ]
    },
    {
     "data": {
      "image/png": "[encoded data removed]",
      "text/plain": [
       "<Figure size 640x480 with 1 Axes>"
      ]
     },
     "metadata": {},
     "output_type": "display_data"
    },
    {
     "name": "stdout",
     "output_type": "stream",
     "text": [
      "Predicted: 2, True: 2\n"
     ]
    },
    {
     "data": {
      "image/png": "[encoded data removed]",
      "text/plain": [
       "<Figure size 640x480 with 1 Axes>"
      ]
     },
     "metadata": {},
     "output_type": "display_data"
    },
    {
     "name": "stdout",
     "output_type": "stream",
     "text": [
      "Predicted: 1, True: 1\n"
     ]
    },
    {
     "data": {
      "image/png": "[encoded data removed]",
      "text/plain": [
       "<Figure size 640x480 with 1 Axes>"
      ]
     },
     "metadata": {},
     "output_type": "display_data"
    },
    {
     "name": "stdout",
     "output_type": "stream",
     "text": [
      "Predicted: 0, True: 0\n"
     ]
    },
    {
     "data": {
      "image/png": "[encoded data removed]",
      "text/plain": [
       "<Figure size 640x480 with 1 Axes>"
      ]
     },
     "metadata": {},
     "output_type": "display_data"
    },
    {
     "name": "stdout",
     "output_type": "stream",
     "text": [
      "Predicted: 4, True: 4\n"
     ]
    },
    {
     "data": {
      "image/png": "[encoded data removed]",
      "text/plain": [
       "<Figure size 640x480 with 1 Axes>"
      ]
     },
     "metadata": {},
     "output_type": "display_data"
    },
    {
     "name": "stdout",
     "output_type": "stream",
     "text": [
      "Predicted: 1, True: 1\n"
     ]
    }
   ],
   "source": [
    "import numpy as np\n",
    "# 8. Visualize Some Predictions\n",
    "def imshow(img):\n",
    "    img = img * 0.3081 + 0.1307  # unnormalize\n",
    "    npimg = img.numpy()\n",
    "    plt.imshow(np.transpose(npimg, (1, 2, 0)), cmap='gray')\n",
    "    plt.axis('off')\n",
    "    plt.show()\n",
    "\n",
    "data_iter = iter(test_loader)\n",
    "images, labels = next(data_iter)\n",
    "outputs = net(images.to(device))\n",
    "_, predictions = torch.max(outputs, 1)\n",
    "\n",
    "# Show 6 predictions\n",
    "for i in range(6):\n",
    "    imshow(images[i])\n",
    "    print(f'Predicted: {predictions[i].item()}, True: {labels[i].item()}')"
   ]
  }
 ],
 "metadata": {
  "kernelspec": {
   "display_name": "digitdata",
   "language": "python",
   "name": "python3"
  },
  "language_info": {
   "codemirror_mode": {
    "name": "ipython",
    "version": 3
   },
   "file_extension": ".py",
   "mimetype": "text/x-python",
   "name": "python",
   "nbconvert_exporter": "python",
   "pygments_lexer": "ipython3",
   "version": "3.12.10"
  }
 },
 "nbformat": 4,
 "nbformat_minor": 5
}
